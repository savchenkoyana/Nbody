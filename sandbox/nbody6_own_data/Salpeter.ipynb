{
 "cells": [
  {
   "cell_type": "code",
   "execution_count": null,
   "id": "124dcb28-492b-420e-90c3-d722936e3b5e",
   "metadata": {},
   "outputs": [],
   "source": [
    "import sys\n",
    "\n",
    "sys.path.append(\"../../02_Reproduce_JGB/\")\n",
    "\n",
    "import agama\n",
    "import matplotlib.pyplot as plt\n",
    "import numpy as np\n",
    "from utils.snap import parse_nemo\n",
    "from utils.snap import profile_by_snap\n",
    "\n",
    "%matplotlib inline\n",
    "agama.setUnits(length=0.001, mass=1, velocity=1)"
   ]
  },
  {
   "cell_type": "code",
   "execution_count": null,
   "id": "07414f2d-988f-4699-a549-d4df391608be",
   "metadata": {},
   "outputs": [],
   "source": [
    "snap_file = \"nbody6_salpeter/OUT3_scaled.snap\""
   ]
  },
  {
   "cell_type": "code",
   "execution_count": null,
   "id": "6b7c23f2-0464-4115-8b19-64552b68018c",
   "metadata": {},
   "outputs": [],
   "source": [
    "snap = parse_nemo(snap_file, t=0)"
   ]
  },
  {
   "cell_type": "markdown",
   "id": "af359995-b5d4-41f5-b683-9ed93daa7315",
   "metadata": {},
   "source": [
    "Plot masses and fit with Salpeter PDF"
   ]
  },
  {
   "cell_type": "code",
   "execution_count": null,
   "id": "5635603a-3e6c-4dea-93c0-fd0742adf088",
   "metadata": {
    "scrolled": true
   },
   "outputs": [],
   "source": [
    "masses = snap[0]\n",
    "plt.hist(masses, bins=100, density=True);"
   ]
  },
  {
   "cell_type": "markdown",
   "id": "8814e110-3bf1-4b58-b787-fa842e57837a",
   "metadata": {},
   "source": [
    "$f(M)=1.35*M^{2.35}/(M_{min}^{−1.35}−M_{max}^{−1.35})$"
   ]
  },
  {
   "cell_type": "code",
   "execution_count": null,
   "id": "5c8a40d1-f8e2-4681-a769-f63a712268f9",
   "metadata": {},
   "outputs": [],
   "source": [
    "def salpeter(m, m1, mn):\n",
    "    return 1.35 * m**-2.35 / (m1**-1.35 - mn**-1.35)"
   ]
  },
  {
   "cell_type": "code",
   "execution_count": null,
   "id": "6535deda-274f-471a-a451-33a34f0e5e2a",
   "metadata": {},
   "outputs": [],
   "source": [
    "masses_linspace = np.linspace(0.2, 10, 1000)  # Generate masses from 0.2 to 10 M_sun\n",
    "pdf_values = np.array([salpeter(m, 0.2, 10) for m in masses_linspace])"
   ]
  },
  {
   "cell_type": "code",
   "execution_count": null,
   "id": "0e4fb469-a2db-4602-b818-840717a87914",
   "metadata": {},
   "outputs": [],
   "source": [
    "plt.hist(masses, bins=100, density=True, color=\"b\", log=True)\n",
    "plt.plot(masses_linspace, pdf_values, color=\"g\");"
   ]
  },
  {
   "cell_type": "code",
   "execution_count": null,
   "id": "37a815fa-307d-4bb6-8d7f-79045465720f",
   "metadata": {},
   "outputs": [],
   "source": [
    "np.min(masses), np.max(masses), np.mean(masses)"
   ]
  },
  {
   "cell_type": "markdown",
   "id": "7569f94a-5eb9-4055-9307-47e7691428a4",
   "metadata": {},
   "source": [
    "Plot profile"
   ]
  },
  {
   "cell_type": "code",
   "execution_count": null,
   "id": "886c071d-83d2-4759-bb59-ac4d89c84f66",
   "metadata": {},
   "outputs": [],
   "source": [
    "prof = profile_by_snap(\n",
    "    filename=snap_file,\n",
    "    t=0,\n",
    "    projvector=None,\n",
    ");"
   ]
  },
  {
   "cell_type": "code",
   "execution_count": null,
   "id": "e8fcae4f-5cb4-4442-81af-5b3ebc1681d3",
   "metadata": {},
   "outputs": [],
   "source": [
    "r_prof, rho_prof = prof[0], prof[1]"
   ]
  },
  {
   "cell_type": "code",
   "execution_count": null,
   "id": "afa55b23-0408-404b-a2ff-30eb8d2a6b23",
   "metadata": {},
   "outputs": [],
   "source": [
    "# All parameters like 5000, 0.5, and 2.0 are taken from initial config\n",
    "potential = agama.Potential(\n",
    "    type=\"Plummer\",\n",
    "    mass=5000 * 0.5,  # should be the same as np.sum(masses)\n",
    "    scaleRadius=2.0 / 1.7,  # see https://en.wikipedia.org/wiki/Plummer_model\n",
    ")"
   ]
  },
  {
   "cell_type": "code",
   "execution_count": null,
   "id": "da2c8577-69d2-431d-abeb-ea728aa6538e",
   "metadata": {},
   "outputs": [],
   "source": [
    "plt.plot(r_prof, rho_prof, label=\"from snapshot\")\n",
    "\n",
    "# Plot original density\n",
    "r = np.logspace(-1, 1)\n",
    "xyz = np.vstack((r, r * 0, r * 0)).T\n",
    "\n",
    "plt.xscale(\"log\")\n",
    "plt.yscale(\"log\")\n",
    "plt.xlabel(\"$r, pc$\")\n",
    "\n",
    "plt.plot(\n",
    "    r, potential.density(xyz), linestyle=\"dotted\", label=r\"original $\\rho(r)$\"\n",
    ")"
   ]
  },
  {
   "cell_type": "code",
   "execution_count": null,
   "id": "ce8a63ef-a192-495b-a100-8b20e65098db",
   "metadata": {},
   "outputs": [],
   "source": []
  }
 ],
 "metadata": {
  "kernelspec": {
   "display_name": "Python 3 (ipykernel)",
   "language": "python",
   "name": "python3"
  },
  "language_info": {
   "codemirror_mode": {
    "name": "ipython",
    "version": 3
   },
   "file_extension": ".py",
   "mimetype": "text/x-python",
   "name": "python",
   "nbconvert_exporter": "python",
   "pygments_lexer": "ipython3",
   "version": "3.9.19"
  }
 },
 "nbformat": 4,
 "nbformat_minor": 5
}
