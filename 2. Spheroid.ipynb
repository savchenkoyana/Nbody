{
 "cells": [
  {
   "cell_type": "markdown",
   "id": "268392a3-874f-4589-94d7-97794570c796",
   "metadata": {},
   "source": [
    "## Construct a potential from a custom density function"
   ]
  },
  {
   "cell_type": "markdown",
   "id": "a9732d20-c7f3-4ba2-a603-d10f929a0e0e",
   "metadata": {},
   "source": [
    "We need to create potentials for these two distributions:\n",
    "\n",
    "![notebook_data/pic1.png](notebook_data/pic1.png)\n",
    "\n",
    "Dark matter density – dashed line, black hole density – dotted line\n",
    "\n",
    "We assume that all $N$ particles have the same mass: $m = M_{☉}$. This is just a toy example based on https://arxiv.org/pdf/1807.06590"
   ]
  },
  {
   "cell_type": "code",
   "execution_count": null,
   "id": "3d0ed29b-2dbc-4bc4-bacc-8ef11723e9b2",
   "metadata": {},
   "outputs": [],
   "source": [
    "# imports\n",
    "import math\n",
    "from functools import partial\n",
    "\n",
    "import agama\n",
    "import matplotlib.animation\n",
    "import matplotlib.pyplot as plt\n",
    "import numpy as np\n",
    "from tqdm.notebook import tqdm, trange\n",
    "\n",
    "# choose the best units for this task\n",
    "agama.setUnits(\n",
    "    length=0.001, mass=1, velocity=1\n",
    ")  # length in pc, mass in solar mass, velocity in km/s\n",
    "agama.G"
   ]
  },
  {
   "cell_type": "markdown",
   "id": "0256111a-ddbe-4d13-b08e-ce45ebf05b3f",
   "metadata": {},
   "source": [
    "Assymptotically these potentials look as follows:\n",
    "\n",
    "- Potential for black hole: $\\rho_{BH}[M_{☉}\\times pc^{-3}] \\sim e^{4.5} \\times r_c^{-2.8}[pc]$\n",
    "- Potential for dark matter: $\\rho_{DM}[M_{☉}\\times pc^{-3}] \\sim e^{5} \\times r_c^{-2.1}[pc]$\n",
    "\n",
    "But we need to add an exponent to the $\\rho$, otherwise $\\int_{0}^{\\infty} \\rho(r) \\,d^3r$ will not converge. So the final formulas will be:\n",
    "\n",
    "- Potential for black hole: $\\rho_{BH}[M_{☉}\\times pc^{-3}] \\sim e^{4.5} \\times r_c^{-2.8}[pc] \\times e^{-r_c/r_0}[pc]$\n",
    "- Potential for dark matter: $\\rho_{DM}[M_{☉}\\times pc^{-3}] \\sim e^{5} \\times r_c^{-2.1}[pc] \\times e^{-r_c/r_0}[pc]$\n",
    "\n",
    "The choise of $r_0$ cutoff is arbitrary, let's use $r_0 = 10 [pc]$ (or even make $r_0$ the parameter of a density function).\n",
    "\n",
    "These formulas correspond to Spheroid potential with $r_{cut}=r_0$, $\\xi=1$, $\\gamma=-2.8$ (or $\\gamma = -2.1$), and $\\beta=\\gamma$."
   ]
  },
  {
   "cell_type": "code",
   "execution_count": null,
   "id": "fc5f888a-03e8-48b4-b558-b4ec1de38666",
   "metadata": {},
   "outputs": [],
   "source": [
    "eps = 1e-6  # for numerical stability\n",
    "\n",
    "\n",
    "def rho_bh(r, r0=10, eps=eps):\n",
    "    return math.e**4.5 * (r + eps) ** (-2.8) * math.e ** (-r / r0)\n",
    "\n",
    "\n",
    "def rho_dm(r, r0=10, eps=eps):\n",
    "    return math.e**5 * (r + eps) ** (-2.1) * math.e ** (-r / r0)"
   ]
  },
  {
   "cell_type": "markdown",
   "id": "d64e03fc-a31c-415b-bc08-ba8743e8c1c5",
   "metadata": {},
   "source": [
    "Let's plot $\\rho(r)$ just to make sure it looks okay:"
   ]
  },
  {
   "cell_type": "code",
   "execution_count": null,
   "id": "941c7144-6929-46a5-b813-c7b19f9f446e",
   "metadata": {},
   "outputs": [],
   "source": [
    "log_r = np.linspace(-4, 0.5)\n",
    "\n",
    "f_bh = np.log(rho_bh(np.e**log_r))\n",
    "f_dm = np.log(rho_dm(np.e**log_r))\n",
    "\n",
    "plt.plot(log_r, f_bh, linestyle=\"dotted\", label=\"BH, $r^{-2.8}$\")\n",
    "plt.plot(log_r, f_dm, linestyle=\"dashed\", label=\"DM, $r^{-2.1}$\")\n",
    "\n",
    "plt.xlabel(\"$log(r[pc])$\")\n",
    "plt.ylabel(r\"$log(\\rho[M_{☉}pc^{-3}])$\")\n",
    "\n",
    "plt.legend()"
   ]
  },
  {
   "cell_type": "markdown",
   "id": "fef84241-9f77-4328-b2ef-bcc6c864e051",
   "metadata": {},
   "source": [
    "Create Spheroid potentials"
   ]
  },
  {
   "cell_type": "code",
   "execution_count": null,
   "id": "19703ac7-719f-4321-97d9-468df8a8c1b6",
   "metadata": {},
   "outputs": [],
   "source": [
    "potential_bh = agama.Potential(\n",
    "    type=\"Spheroid\",\n",
    "    alpha=1.0,\n",
    "    gamma=2.8,\n",
    "    beta=2.8,\n",
    "    p=1.0,\n",
    "    q=1.0,\n",
    "    densityNorm=math.e**4.5,\n",
    "    outerCutoffRadius=10.0,\n",
    "    cutoffStrength=1.0,\n",
    ")\n",
    "potential_dm = agama.Potential(\n",
    "    type=\"Spheroid\",\n",
    "    alpha=1.0,\n",
    "    gamma=2.1,\n",
    "    beta=2.1,\n",
    "    p=1.0,\n",
    "    q=1.0,\n",
    "    densityNorm=math.e**5,\n",
    "    outerCutoffRadius=10.0,\n",
    "    cutoffStrength=1.0,\n",
    ")"
   ]
  },
  {
   "cell_type": "markdown",
   "id": "3cbe2558-d88d-4033-90d2-e00262d4580a",
   "metadata": {},
   "source": [
    "Plot Spheroid density"
   ]
  },
  {
   "cell_type": "code",
   "execution_count": null,
   "id": "65b428bf-4f46-4143-95db-8a753cdd95aa",
   "metadata": {},
   "outputs": [],
   "source": [
    "r = np.logspace(-4.0, 1.0)\n",
    "xyz = np.vstack((r, r * 0, r * 0)).T\n",
    "\n",
    "f_bh = potential_bh.density(xyz)\n",
    "f_dm = potential_dm.density(xyz)\n",
    "\n",
    "plt.plot(r, f_bh, linestyle=\"dotted\", label=\"BH, $r^{-2.8}$\")\n",
    "plt.plot(r, f_dm, linestyle=\"dashed\", label=\"DM, $r^{-2.1}$\")\n",
    "\n",
    "plt.xlabel(\"r\")\n",
    "plt.ylabel(r\"$\\rho$\")\n",
    "plt.xscale(\"log\")\n",
    "plt.yscale(\"log\")\n",
    "plt.ylim(1e2, 1e16)\n",
    "plt.xlim(1e-4, 1e1)\n",
    "\n",
    "plt.legend()"
   ]
  },
  {
   "cell_type": "code",
   "execution_count": null,
   "id": "dda2bb37-8caa-4679-b49e-53e4b3351c11",
   "metadata": {},
   "outputs": [],
   "source": [
    "# df_bh = agama.DistributionFunction(type=\"QuasiSpherical\", potential=potential_bh)\n",
    "# df_dm = agama.DistributionFunction(type=\"QuasiSpherical\", potential=potential_dm)\n",
    "\n",
    "df_bh = agama.DistributionFunction(\n",
    "    type=\"DoublePowerLaw\", norm=1, slopeIn=1, slopeOut=5, J0=1\n",
    ")\n",
    "df_dm = agama.DistributionFunction(\n",
    "    type=\"DoublePowerLaw\", norm=1, slopeIn=1, slopeOut=5, J0=1\n",
    ")\n",
    "\n",
    "df_bh.totalMass(), df_dm.totalMass()"
   ]
  },
  {
   "cell_type": "code",
   "execution_count": null,
   "id": "34bcfc15-a37f-438c-910f-5817dead0721",
   "metadata": {},
   "outputs": [],
   "source": [
    "model_bh = agama.GalaxyModel(potential=potential_bh, df=df_bh)\n",
    "model_dm = agama.GalaxyModel(potential=potential_dm, df=df_dm)"
   ]
  },
  {
   "cell_type": "markdown",
   "id": "cc37addb-62cc-4e74-b1c7-a219f0046fce",
   "metadata": {},
   "source": [
    "### Choose model and simulation type"
   ]
  },
  {
   "cell_type": "code",
   "execution_count": null,
   "id": "3eaa0085-1667-40c0-b732-7063f906e283",
   "metadata": {},
   "outputs": [],
   "source": [
    "use_self_consistent_model = False\n",
    "use_bh_model = True\n",
    "N = 10_000  # the number of simulated particles in a cluster"
   ]
  },
  {
   "cell_type": "code",
   "execution_count": null,
   "id": "d901a794-efab-43c5-824d-333c66465efe",
   "metadata": {},
   "outputs": [],
   "source": [
    "def create_self_consistent_model(potential, df, verbose=False, plot=False):\n",
    "    print(\"Creating a self-consistent model\")\n",
    "    dens = agama.Density(type=\"Plummer\", mass=1.0, scaleRadius=1.0)\n",
    "\n",
    "    # define the self-consistent model consisting of a single component\n",
    "    params = dict(rminSph=0.001, rmaxSph=1000.0, sizeRadialSph=40, lmaxAngularSph=0)\n",
    "    comp = agama.Component(df=df, density=dens, disklike=False, **params)\n",
    "    scm = agama.SelfConsistentModel(**params)\n",
    "    scm.components = [comp]\n",
    "\n",
    "    # prepare visualization\n",
    "    r = np.logspace(-4.0, 1.0)\n",
    "    xyz = np.vstack((r, r * 0, r * 0)).T\n",
    "    if plot:\n",
    "        plt.plot(r, dens.density(xyz), label=\"Init density\")\n",
    "        plt.plot(r, potential.density(xyz), label=\"True density\", c=\"k\")[0].set_dashes(\n",
    "            [4, 4]\n",
    "        )\n",
    "\n",
    "    # perform several iterations of self-consistent modelling procedure\n",
    "    for i in range(10):\n",
    "        scm.iterate()\n",
    "        if verbose:\n",
    "            print(\n",
    "                \"Iteration %i, Phi(0)=%g, Mass=%g\"\n",
    "                % (i, scm.potential.potential(0, 0, 0), scm.potential.totalMass())\n",
    "            )\n",
    "        if plot:\n",
    "            plt.plot(r, scm.potential.density(xyz), label=\"Iteration #\" + str(i))\n",
    "\n",
    "    # save the final density/potential profile\n",
    "    scm.potential.export(\"simple_scm.ini\")\n",
    "\n",
    "    if plot:\n",
    "        # show the results\n",
    "        plt.legend(loc=\"lower left\")\n",
    "        plt.xlabel(\"r\")\n",
    "        plt.ylabel(r\"$\\rho$\")\n",
    "        plt.xscale(\"log\")\n",
    "        plt.yscale(\"log\")\n",
    "        plt.ylim(1e2, 1e16)\n",
    "        plt.xlim(1e-4, 1e1)\n",
    "        plt.show()\n",
    "\n",
    "    return scm"
   ]
  },
  {
   "cell_type": "code",
   "execution_count": null,
   "id": "c908cf7c-e4be-41ba-9889-e7c9620e026c",
   "metadata": {
    "scrolled": true
   },
   "outputs": [],
   "source": [
    "if use_bh_model:\n",
    "    potential = potential_bh\n",
    "    df = df_bh\n",
    "else:\n",
    "    potential = potential_dm\n",
    "    df = df_dm\n",
    "\n",
    "\n",
    "if use_self_consistent_model:\n",
    "    # create and write out an N−body realization of the model\n",
    "    scm = create_self_consistent_model(\n",
    "        potential=potential,\n",
    "        df=df,\n",
    "        plot=True,\n",
    "        verbose=False,\n",
    "    )\n",
    "\n",
    "    c_pot = scm.potential\n",
    "    snap = agama.GalaxyModel(scm.potential, scm.potential.density).sample(N)\n",
    "else:\n",
    "    c_gm = agama.GalaxyModel(potential=potential, df=df)\n",
    "\n",
    "    c_pot = potential\n",
    "    snap = c_gm.sample(N)"
   ]
  },
  {
   "cell_type": "markdown",
   "id": "b8f62660-2d2c-45bb-869d-602d54fa75d2",
   "metadata": {},
   "source": [
    "## Perform an N-body simulation (without Milky Way)"
   ]
  },
  {
   "cell_type": "code",
   "execution_count": null,
   "id": "575109a0-ab03-427a-9551-032b9762efa9",
   "metadata": {},
   "outputs": [],
   "source": [
    "# create an isolated star cluster\n",
    "xv, m = snap[0], snap[1]\n",
    "\n",
    "# shift it to some initial point in the Galaxy\n",
    "c_center = np.hstack([0, 0, 0, 0, 0, 0])\n",
    "xv += c_center"
   ]
  },
  {
   "cell_type": "code",
   "execution_count": null,
   "id": "6792536d-24f8-4cc9-bf4f-5509eba890e3",
   "metadata": {},
   "outputs": [],
   "source": [
    "%%capture\n",
    "%matplotlib inline\n",
    "\n",
    "plt.rcParams[\"animation.html\"] = \"jshtml\"\n",
    "plt.rcParams[\"animation.embed_limit\"] = 200\n",
    "\n",
    "# Initialize plot and simulation parameters\n",
    "fig = plt.figure(figsize=(10, 10), dpi=75)\n",
    "ax = plt.axes([0.08, 0.08, 0.9, 0.9])\n",
    "\n",
    "sim_time = 0.25 * 1  # total simulation time in units of kpc/(km/s) = 0.98 Gyr\n",
    "num_intervals = 32 * 1\n",
    "num_subint = 16\n",
    "interval = sim_time / num_intervals\n",
    "\n",
    "\n",
    "# Update plot at each iteration `i`\n",
    "def update(i, ax, nbody_data, N):\n",
    "    snap, c_bound, orbit_center, time = nbody_data[i]\n",
    "\n",
    "    ax.cla()\n",
    "    ax.scatter(\n",
    "        snap[:, 0],\n",
    "        snap[:, 1],\n",
    "        c=c_bound,\n",
    "        cmap=\"bwr_r\",\n",
    "        vmin=0,\n",
    "        vmax=1,\n",
    "        s=2,\n",
    "        linewidths=0,\n",
    "    )\n",
    "    ax.plot(\n",
    "        orbit_center[0 : i * num_subint, 0],\n",
    "        orbit_center[0 : i * num_subint, 1],\n",
    "        color=\"k\",\n",
    "    )\n",
    "    ax.text(\n",
    "        0.01,\n",
    "        0.99,\n",
    "        \"time=%.4f, bound fraction=%.3f\" % (time, np.sum(c_bound) * 1.0 / N),\n",
    "        ha=\"left\",\n",
    "        va=\"top\",\n",
    "        transform=ax.transAxes,\n",
    "    )"
   ]
  },
  {
   "cell_type": "code",
   "execution_count": null,
   "id": "cc1ef4cd-c55e-49ba-bcf6-1cff341476a2",
   "metadata": {},
   "outputs": [],
   "source": [
    "# calculate how cluster's center will move in its own potential\n",
    "time_center, orbit_center = agama.orbit(\n",
    "    potential=c_pot,\n",
    "    ic=c_center,\n",
    "    time=sim_time,\n",
    "    trajsize=num_intervals * num_subint + 1,\n",
    ")\n",
    "cpot = c_pot\n",
    "snap = xv.copy()"
   ]
  },
  {
   "cell_type": "code",
   "execution_count": null,
   "id": "6753ba35-02ce-4214-bafc-7a29d024d5f0",
   "metadata": {},
   "outputs": [],
   "source": [
    "# Create a variable for simulation artifacts\n",
    "nbody_data = {}\n",
    "\n",
    "print(\"Start simulation...\")\n",
    "\n",
    "for i in trange(num_intervals + 1):  # Simulate `num_intervals` frames\n",
    "    # determine which particles remain bound to the satellite\n",
    "    c_bound = (\n",
    "        cpot.potential(snap[:, 0:3] - orbit_center[i * num_subint, 0:3])\n",
    "        + 0.5 * np.sum((snap[:, 3:6] - orbit_center[i * num_subint, 3:6]) ** 2, axis=1)\n",
    "        < 0\n",
    "    )\n",
    "    time = i * interval\n",
    "\n",
    "    # Fill `nbody_data`\n",
    "    nbody_data[i] = (snap, c_bound, orbit_center, time)\n",
    "\n",
    "    if i == num_intervals:\n",
    "        continue\n",
    "\n",
    "    # compute the trajectories of all particles moving in the combined potential of the host galaxy and the moving satellite\n",
    "    snap = np.vstack(\n",
    "        agama.orbit(\n",
    "            ic=snap,\n",
    "            potential=cpot,\n",
    "            time=interval,\n",
    "            timestart=time,\n",
    "            trajsize=1,\n",
    "            accuracy=1e-5,\n",
    "            verbose=False,\n",
    "        )[:, 1]\n",
    "    )\n",
    "    # update the potential of the satellite (using a spherical monopole approximation)\n",
    "    cpot = agama.Potential(\n",
    "        type=\"multipole\",\n",
    "        particles=(snap[:, 0:3] - orbit_center[(i + 1) * num_subint, 0:3], m),\n",
    "        symmetry=\"s\",\n",
    "    )"
   ]
  },
  {
   "cell_type": "code",
   "execution_count": null,
   "id": "8a50a208-f708-44a2-9e68-db0bf944f2a6",
   "metadata": {},
   "outputs": [],
   "source": [
    "# snap"
   ]
  },
  {
   "cell_type": "code",
   "execution_count": null,
   "id": "cc3925a6-e1b4-43d1-9c21-bd9caaff678e",
   "metadata": {},
   "outputs": [],
   "source": [
    "ani = matplotlib.animation.FuncAnimation(\n",
    "    fig=fig,\n",
    "    func=partial(\n",
    "        update,\n",
    "        ax=ax,\n",
    "        nbody_data=nbody_data,\n",
    "        N=N,\n",
    "    ),\n",
    "    frames=num_intervals + 1,\n",
    "    interval=250,\n",
    "    cache_frame_data=False,\n",
    ")\n",
    "\n",
    "# ani.save(\"sim.gif\", writer=\"pillow\")"
   ]
  },
  {
   "cell_type": "code",
   "execution_count": null,
   "id": "14ff078c-2073-4d15-98f0-5fa2206c9a32",
   "metadata": {},
   "outputs": [],
   "source": [
    "ani"
   ]
  },
  {
   "cell_type": "code",
   "execution_count": null,
   "id": "685b4ec2-553c-4c56-b101-2ea2271bf16a",
   "metadata": {},
   "outputs": [],
   "source": []
  }
 ],
 "metadata": {
  "kernelspec": {
   "display_name": "Python 3 (ipykernel)",
   "language": "python",
   "name": "python3"
  },
  "language_info": {
   "codemirror_mode": {
    "name": "ipython",
    "version": 3
   },
   "file_extension": ".py",
   "mimetype": "text/x-python",
   "name": "python",
   "nbconvert_exporter": "python",
   "pygments_lexer": "ipython3",
   "version": "3.9.19"
  }
 },
 "nbformat": 4,
 "nbformat_minor": 5
}
