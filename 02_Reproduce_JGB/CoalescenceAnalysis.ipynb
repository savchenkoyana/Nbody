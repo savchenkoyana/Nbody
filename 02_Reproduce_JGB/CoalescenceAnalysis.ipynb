{
 "cells": [
  {
   "cell_type": "markdown",
   "id": "94d3f33b-b565-4f3f-9e11-5ae5c119e471",
   "metadata": {},
   "source": [
    "This code is based on official tutorial: https://github.com/nbody6ppgpu/Nbody6PPGPU-beijing/blob/stable/examples/readhdf5.ipynb"
   ]
  },
  {
   "cell_type": "code",
   "execution_count": null,
   "id": "2b789b39-d653-4db1-aea9-94c96cbd32cb",
   "metadata": {},
   "outputs": [],
   "source": [
    "from pathlib import Path\n",
    "\n",
    "import numpy as np\n",
    "import matplotlib.pyplot as plt\n",
    "\n",
    "from utils.hdf5file import NBodySnapshot"
   ]
  },
  {
   "cell_type": "code",
   "execution_count": null,
   "id": "ea77d8bc-cf04-49b2-9079-8fd0b637a37b",
   "metadata": {},
   "outputs": [],
   "source": [
    "exp_root = Path(\"nbody6++jgb_exp/N5000_MA_2805_nompi\")"
   ]
  },
  {
   "cell_type": "code",
   "execution_count": null,
   "id": "6fba20c2-3d03-4df3-8b68-c49304216c7b",
   "metadata": {},
   "outputs": [],
   "source": [
    "files = sorted(\n",
    "    exp_root.glob(\"snap.40*\"),\n",
    "    key=lambda p: int(p.name.split(\".\", 2)[1])  # parse the number in \"snap.40_*.h5part\"\n",
    ")"
   ]
  },
  {
   "cell_type": "code",
   "execution_count": null,
   "id": "669d75cc-ac47-4ae4-ad1f-01dfb22ba0b9",
   "metadata": {},
   "outputs": [],
   "source": [
    "for f in files:\n",
    "    # print(f)\n",
    "    snap = NBodySnapshot(f)\n",
    "    i = iter(snap)\n",
    "\n",
    "    while True:\n",
    "        try:\n",
    "            snap = next(i)\n",
    "        except StopIteration:\n",
    "            break\n",
    "        # print(f\"Time={snap.scalars['TTOT']}\")\n",
    "        # print(f\"\\tLoaded: N={int(snap.scalars['N']):d}, NPAIRS={int(snap.scalars['NPAIRS']):d}, N_SINGLE={int(snap.scalars['N_SINGLE']):d}, \"\n",
    "        #   f\"N_BINARY={int(snap.scalars['N_BINARY']):d}, N_MERGER={int(snap.scalars['N_MERGER']):d}\")\n",
    "\n",
    "        if int(snap.scalars['N_MERGER']):\n",
    "            print(f\"Time[NB]={snap.scalars['TTOT']}\")\n",
    "            print(f\"\\tLoaded: N={int(snap.scalars['N']):d}, NPAIRS={int(snap.scalars['NPAIRS']):d}, N_SINGLE={int(snap.scalars['N_SINGLE']):d}, \"\n",
    "                  f\"N_BINARY={int(snap.scalars['N_BINARY']):d}, N_MERGER={int(snap.scalars['N_MERGER']):d}\")\n",
    "            print([_ for _ in snap.group])\n",
    "            break\n",
    "            \n",
    "        # lbl = f\"NAME,ASPN at T={snap.scalars['TTOT']}\"\n",
    "        # plt.scatter(snap.Name, snap.ASPN,c=\"g\", label=lbl)\n",
    "        # plt.xlabel(\"NAME\")\n",
    "        # plt.ylabel(\"ASPN\")\n",
    "        # plt.ylim(0, 1)\n",
    "        # plt.legend(loc=\"upper left\")\n",
    "        # plt.show()\n",
    "\n",
    "    snap.close()"
   ]
  },
  {
   "cell_type": "code",
   "execution_count": null,
   "id": "6a8c0c73-0215-436d-96ec-ea2defa7c906",
   "metadata": {},
   "outputs": [],
   "source": []
  }
 ],
 "metadata": {
  "kernelspec": {
   "display_name": "Python 3 (ipykernel)",
   "language": "python",
   "name": "python3"
  },
  "language_info": {
   "codemirror_mode": {
    "name": "ipython",
    "version": 3
   },
   "file_extension": ".py",
   "mimetype": "text/x-python",
   "name": "python",
   "nbconvert_exporter": "python",
   "pygments_lexer": "ipython3",
   "version": "3.9.19"
  }
 },
 "nbformat": 4,
 "nbformat_minor": 5
}
