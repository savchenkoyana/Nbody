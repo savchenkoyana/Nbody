{
 "cells": [
  {
   "cell_type": "code",
   "execution_count": null,
   "id": "124dcb28-492b-420e-90c3-d722936e3b5e",
   "metadata": {},
   "outputs": [],
   "source": [
    "import sys\n",
    "\n",
    "sys.path.append(\"../02_Reproduce_JGB/\")\n",
    "\n",
    "import matplotlib.pyplot as plt\n",
    "import numpy as np\n",
    "from utils.snap import parse_nemo\n",
    "\n",
    "%matplotlib inline"
   ]
  },
  {
   "cell_type": "code",
   "execution_count": null,
   "id": "07414f2d-988f-4699-a549-d4df391608be",
   "metadata": {},
   "outputs": [],
   "source": [
    "snap_file = \"nbody6_salpeter/OUT3_scaled.snap\""
   ]
  },
  {
   "cell_type": "code",
   "execution_count": null,
   "id": "6b7c23f2-0464-4115-8b19-64552b68018c",
   "metadata": {},
   "outputs": [],
   "source": [
    "snap = parse_nemo(snap_file, t=0)\n",
    "masses = snap[0]"
   ]
  },
  {
   "cell_type": "code",
   "execution_count": null,
   "id": "5635603a-3e6c-4dea-93c0-fd0742adf088",
   "metadata": {
    "scrolled": true
   },
   "outputs": [],
   "source": [
    "plt.hist(masses, bins=100, density=True);"
   ]
  },
  {
   "cell_type": "markdown",
   "id": "8814e110-3bf1-4b58-b787-fa842e57837a",
   "metadata": {},
   "source": [
    "$f(M)=1.35*M^{2.35}/(M_{min}^{−1.35}−M_{max}^{−1.35})$"
   ]
  },
  {
   "cell_type": "code",
   "execution_count": null,
   "id": "5c8a40d1-f8e2-4681-a769-f63a712268f9",
   "metadata": {},
   "outputs": [],
   "source": [
    "def salpeter(m, m1, mn):\n",
    "    return 1.35 * m**-2.35 / (m1**-1.35 - mn**-1.35)"
   ]
  },
  {
   "cell_type": "code",
   "execution_count": null,
   "id": "6535deda-274f-471a-a451-33a34f0e5e2a",
   "metadata": {},
   "outputs": [],
   "source": [
    "masses_linspace = np.linspace(0.2, 10, 1000)  # Generate masses from 0.01 to 10 M_sun\n",
    "pdf_values = np.array([salpeter(m, 0.2, 10) for m in masses_linspace])"
   ]
  },
  {
   "cell_type": "code",
   "execution_count": null,
   "id": "0e4fb469-a2db-4602-b818-840717a87914",
   "metadata": {},
   "outputs": [],
   "source": [
    "plt.hist(masses, bins=100, density=True, color=\"b\", log=True)\n",
    "plt.plot(masses_linspace, pdf_values, color=\"g\");"
   ]
  },
  {
   "cell_type": "code",
   "execution_count": null,
   "id": "29371e64-5abf-4d4d-8ac9-996185ab3a46",
   "metadata": {},
   "outputs": [],
   "source": [
    "np.max(masses), np.min(masses), np.median(masses)"
   ]
  },
  {
   "cell_type": "code",
   "execution_count": null,
   "id": "7f266679-11ba-4c92-87ed-4e756494116a",
   "metadata": {},
   "outputs": [],
   "source": [
    "np.max(pdf_values), np.min(pdf_values), np.median(pdf_values)"
   ]
  },
  {
   "cell_type": "code",
   "execution_count": null,
   "id": "cbdc21e7-00b1-4b48-ada8-c63e00ae6dc7",
   "metadata": {},
   "outputs": [],
   "source": []
  }
 ],
 "metadata": {
  "kernelspec": {
   "display_name": "Python 3 (ipykernel)",
   "language": "python",
   "name": "python3"
  },
  "language_info": {
   "codemirror_mode": {
    "name": "ipython",
    "version": 3
   },
   "file_extension": ".py",
   "mimetype": "text/x-python",
   "name": "python",
   "nbconvert_exporter": "python",
   "pygments_lexer": "ipython3",
   "version": "3.9.19"
  }
 },
 "nbformat": 4,
 "nbformat_minor": 5
}
